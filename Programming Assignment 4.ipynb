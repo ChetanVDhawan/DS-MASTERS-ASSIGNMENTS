{
 "cells": [
  {
   "cell_type": "code",
   "execution_count": 9,
   "metadata": {},
   "outputs": [
    {
     "name": "stdout",
     "output_type": "stream",
     "text": [
      "Enter the number 6\n",
      "The factorial of a number is 720 \n"
     ]
    }
   ],
   "source": [
    "# 1. Write a Python program to find Factorial of a number\n",
    "def factorial(num):\n",
    "    if num==1:\n",
    "        return 1\n",
    "    else:\n",
    "        return num*factorial(num-1)\n",
    "\n",
    "factorial_num = int(input(\"Enter the number \"))\n",
    "print(\"The factorial of a number is {0} \".format(factorial(factorial_num)))"
   ]
  },
  {
   "cell_type": "code",
   "execution_count": 11,
   "metadata": {},
   "outputs": [
    {
     "name": "stdout",
     "output_type": "stream",
     "text": [
      "Enter the number for which you need table : 7\n",
      "7 x 1 = 7 \n",
      "7 x 2 = 14 \n",
      "7 x 3 = 21 \n",
      "7 x 4 = 28 \n",
      "7 x 5 = 35 \n",
      "7 x 6 = 42 \n",
      "7 x 7 = 49 \n",
      "7 x 8 = 56 \n",
      "7 x 9 = 63 \n",
      "7 x 10 = 70 \n"
     ]
    }
   ],
   "source": [
    "# 2. Write a Python Program to display multiplication Table\n",
    "table_num = int(input(\"Enter the number for which you need table : \"))\n",
    "for i in range(1,11):\n",
    "    print(\"{0} x {1} = {2} \".format(table_num,i,table_num*i))"
   ]
  },
  {
   "cell_type": "code",
   "execution_count": 43,
   "metadata": {},
   "outputs": [
    {
     "name": "stdout",
     "output_type": "stream",
     "text": [
      " fibonnaci sequence for digit: 10\n",
      "[0, 1, 1, 2, 3, 5, 8, 13, 21, 34]\n"
     ]
    }
   ],
   "source": [
    "# 3. Write a Python program to print Fibonnaci Sequence\n",
    "fibo_num = int(input(\" fibonnaci sequence for digit: \"))\n",
    "fibonnaci_series = [0,1]\n",
    "add = 0\n",
    "for i in range(1,fibo_num-1):\n",
    "    length = len(fibonnaci_series)\n",
    "    prev_i = fibonnaci_series[length-2]\n",
    "    next_i = fibonnaci_series[length-1]\n",
    "    add = prev_i+next_i\n",
    "    fibonnaci_series.append(add)\n",
    "print(fibonnaci_series)"
   ]
  },
  {
   "cell_type": "code",
   "execution_count": 4,
   "metadata": {},
   "outputs": [
    {
     "name": "stdout",
     "output_type": "stream",
     "text": [
      "The sum of 1st 5 natural numbers is 15.0\n"
     ]
    }
   ],
   "source": [
    "#5 Find sum of natural numbers\n",
    "number = 5\n",
    "sum_of_natural_numbers=number*(number+1)/2\n",
    "print(\"The sum of 1st {0} natural numbers is {1}\".format(number,str(sum_of_natural_numbers)))"
   ]
  }
 ],
 "metadata": {
  "kernelspec": {
   "display_name": "Python 3",
   "language": "python",
   "name": "python3"
  },
  "language_info": {
   "codemirror_mode": {
    "name": "ipython",
    "version": 3
   },
   "file_extension": ".py",
   "mimetype": "text/x-python",
   "name": "python",
   "nbconvert_exporter": "python",
   "pygments_lexer": "ipython3",
   "version": "3.8.5"
  }
 },
 "nbformat": 4,
 "nbformat_minor": 4
}
