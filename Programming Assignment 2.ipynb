{
 "cells": [
  {
   "cell_type": "code",
   "execution_count": 1,
   "metadata": {},
   "outputs": [],
   "source": [
    "#1 . Write a python program to convert km to miles"
   ]
  },
  {
   "cell_type": "code",
   "execution_count": 2,
   "metadata": {},
   "outputs": [
    {
     "name": "stdout",
     "output_type": "stream",
     "text": [
      "KM to Miles Convertor\n",
      "Enter data in Kms1000\n",
      "The distance in miles  621.5040397762585\n"
     ]
    }
   ],
   "source": [
    "print(\"KM to Miles Convertor\")\n",
    "data_kms = float(input(\"Enter data in Kms\"))\n",
    "data_miles =data_kms/1.609\n",
    "print(\"The distance in miles \",data_miles)"
   ]
  },
  {
   "cell_type": "code",
   "execution_count": null,
   "metadata": {},
   "outputs": [],
   "source": [
    "#2 . Write a python code to convert celsius to fahrenheit"
   ]
  },
  {
   "cell_type": "code",
   "execution_count": 5,
   "metadata": {},
   "outputs": [
    {
     "name": "stdout",
     "output_type": "stream",
     "text": [
      "Celsius to Fahrenheit Convertor\n",
      "Enter tempreature in celsius 00\n",
      "tempreature in Farehneit is 32.0\n"
     ]
    }
   ],
   "source": [
    "print(\"Celsius to Fahrenheit Convertor\")\n",
    "data_c = float(input(\"Enter tempreature in celsius \"))\n",
    "data_f = (data_c * 9/5) + 32\n",
    "print(\"tempreature in Farehneit is\", data_f)"
   ]
  },
  {
   "cell_type": "code",
   "execution_count": 15,
   "metadata": {},
   "outputs": [
    {
     "name": "stdout",
     "output_type": "stream",
     "text": [
      "   February 2021\n",
      "Mo Tu We Th Fr Sa Su\n",
      " 1  2  3  4  5  6  7\n",
      " 8  9 10 11 12 13 14\n",
      "15 16 17 18 19 20 21\n",
      "22 23 24 25 26 27 28\n",
      "\n"
     ]
    }
   ],
   "source": [
    "3 . #Write a program to display calender\n",
    "import calendar\n",
    "\n",
    "yy = 2021\n",
    "mm = 2\n",
    " \n",
    "# display the calendar\n",
    "print(calendar.month(yy, mm))\n",
    "\n"
   ]
  },
  {
   "cell_type": "code",
   "execution_count": 16,
   "metadata": {},
   "outputs": [
    {
     "name": "stdout",
     "output_type": "stream",
     "text": [
      "The solution are (-3+0j) and (-2+0j)\n"
     ]
    }
   ],
   "source": [
    "#4. Write a program to solve quadratic equation\n",
    "import cmath\n",
    "\n",
    "a = 1\n",
    "b = 5\n",
    "c = 6\n",
    "\n",
    "# calculate the discriminant\n",
    "d = (b**2) - (4*a*c)\n",
    "\n",
    "# find two solutions\n",
    "sol1 = (-b-cmath.sqrt(d))/(2*a)\n",
    "sol2 = (-b+cmath.sqrt(d))/(2*a)\n",
    "\n",
    "print('The solution are {0} and {1}'.format(sol1,sol2))"
   ]
  },
  {
   "cell_type": "raw",
   "metadata": {},
   "source": [
    "#5 .Write a program to swap two numbers without temp"
   ]
  },
  {
   "cell_type": "code",
   "execution_count": 12,
   "metadata": {},
   "outputs": [
    {
     "name": "stdout",
     "output_type": "stream",
     "text": [
      "The Value of a before swap is 1000\n",
      "The Value of b before swap is 5555\n",
      "The Value of a after swap is  5555.0\n",
      "The value of b after swap is 1000.0\n"
     ]
    }
   ],
   "source": [
    "a = float(input(\"The Value of a before swap is \"))\n",
    "b = float(input(\"The Value of b before swap is \"))\n",
    "a,b=b,a\n",
    "print(\"The Value of a after swap is \", a)\n",
    "print(\"The value of b after swap is\",b)"
   ]
  },
  {
   "cell_type": "code",
   "execution_count": null,
   "metadata": {},
   "outputs": [],
   "source": []
  }
 ],
 "metadata": {
  "kernelspec": {
   "display_name": "Python 3",
   "language": "python",
   "name": "python3"
  },
  "language_info": {
   "codemirror_mode": {
    "name": "ipython",
    "version": 3
   },
   "file_extension": ".py",
   "mimetype": "text/x-python",
   "name": "python",
   "nbconvert_exporter": "python",
   "pygments_lexer": "ipython3",
   "version": "3.8.5"
  }
 },
 "nbformat": 4,
 "nbformat_minor": 4
}
