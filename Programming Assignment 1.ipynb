{
 "cells": [
  {
   "cell_type": "code",
   "execution_count": null,
   "metadata": {},
   "outputs": [],
   "source": [
    "#1.Write a Python program to print \"Hello Python\"?"
   ]
  },
  {
   "cell_type": "code",
   "execution_count": 2,
   "metadata": {},
   "outputs": [
    {
     "name": "stdout",
     "output_type": "stream",
     "text": [
      "\"Hello Python\"\n"
     ]
    }
   ],
   "source": [
    "print('\"Hello Python\"')"
   ]
  },
  {
   "cell_type": "code",
   "execution_count": null,
   "metadata": {},
   "outputs": [],
   "source": [
    "#2. Write a Python program to do arithmetic operations addition and divison"
   ]
  },
  {
   "cell_type": "code",
   "execution_count": 10,
   "metadata": {},
   "outputs": [
    {
     "name": "stdout",
     "output_type": "stream",
     "text": [
      "Addition of number is 30\n",
      "Divison of number is 0.5\n"
     ]
    }
   ],
   "source": [
    "a  = 10\n",
    "b = 20\n",
    "\n",
    "try:\n",
    "    print(\"Addition of number is\" ,a+b)\n",
    "    print(\"Divison of number is\" ,a/b)   \n",
    "    \n",
    "except Exception as e:\n",
    "    print(e)"
   ]
  },
  {
   "cell_type": "code",
   "execution_count": 14,
   "metadata": {},
   "outputs": [
    {
     "name": "stdout",
     "output_type": "stream",
     "text": [
      "enter the base 5\n",
      "Enter the hieght 6\n",
      "Area of triangle is  15.0\n"
     ]
    }
   ],
   "source": [
    "#3. Write a python program to find area of triangle\n",
    "base  = float(input(\"enter the base \"))\n",
    "height =float(input(\"Enter the hieght \"))\n",
    "Area  = (base*height)*0.5\n",
    "print(\"Area of triangle is \",Area)"
   ]
  },
  {
   "cell_type": "code",
   "execution_count": 18,
   "metadata": {},
   "outputs": [
    {
     "name": "stdout",
     "output_type": "stream",
     "text": [
      "Value of a before swap 10\n",
      "Value of b before swap 20\n",
      "Value of a after swap  20\n",
      "Value of b after swap 10\n"
     ]
    }
   ],
   "source": [
    "#Program to swap to numbers\n",
    "a =int(input(\"Value of a before swap \"))\n",
    "b = int(input(\"Value of b before swap \"))\n",
    "a,b =b,a\n",
    "print(\"Value of a after swap \",a)\n",
    "print(\"Value of b after swap\",b)"
   ]
  },
  {
   "cell_type": "code",
   "execution_count": 25,
   "metadata": {},
   "outputs": [
    {
     "name": "stdout",
     "output_type": "stream",
     "text": [
      "Random number between 5 and 15 is 15\n"
     ]
    }
   ],
   "source": [
    "#Write a program to generate random number\n",
    "import random\n",
    "r1 = random.randint(5, 15)\n",
    "print(\"Random number between 5 and 15 is % s\" % (r1))"
   ]
  },
  {
   "cell_type": "code",
   "execution_count": null,
   "metadata": {},
   "outputs": [],
   "source": []
  },
  {
   "cell_type": "code",
   "execution_count": null,
   "metadata": {},
   "outputs": [],
   "source": []
  }
 ],
 "metadata": {
  "kernelspec": {
   "display_name": "Python 3",
   "language": "python",
   "name": "python3"
  },
  "language_info": {
   "codemirror_mode": {
    "name": "ipython",
    "version": 3
   },
   "file_extension": ".py",
   "mimetype": "text/x-python",
   "name": "python",
   "nbconvert_exporter": "python",
   "pygments_lexer": "ipython3",
   "version": "3.8.5"
  }
 },
 "nbformat": 4,
 "nbformat_minor": 4
}
